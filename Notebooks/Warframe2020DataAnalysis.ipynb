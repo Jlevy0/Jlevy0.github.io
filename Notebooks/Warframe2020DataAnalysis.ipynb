{
 "metadata": {
  "language_info": {
   "codemirror_mode": {
    "name": "ipython",
    "version": 3
   },
   "file_extension": ".py",
   "mimetype": "text/x-python",
   "name": "python",
   "nbconvert_exporter": "python",
   "pygments_lexer": "ipython3",
   "version": "3.7.8"
  },
  "orig_nbformat": 2,
  "kernelspec": {
   "name": "python378jvsc74a57bd0954567cbde4850fae9400a0ddd732c4947910029f7ebc3309c3787b308a345bc",
   "display_name": "Python 3.7.8 64-bit"
  },
  "metadata": {
   "interpreter": {
    "hash": "954567cbde4850fae9400a0ddd732c4947910029f7ebc3309c3787b308a345bc"
   }
  }
 },
 "nbformat": 4,
 "nbformat_minor": 2,
 "cells": [
  {
   "source": [
    "# Analyzing Warframe's 2020 Usage Data"
   ],
   "cell_type": "markdown",
   "metadata": {}
  },
  {
   "source": [
    "# What is Warframe?\n",
    "Warframe is a multiplayer third-person shooter developed by Digital Extremes. Players play as a Tenno, an operator of the powerful Warframes, trying to keep the galaxy from falling into complete chaos. \n",
    "\n",
    "Digital Extremes is admirably public with their data, including a 2020 year-end divulgence of what players have been using in their missions. \n",
    "\n",
    "You can find their stats page [here](https://www.warframe.com/2020stats). You can also get the raw JSON file from [here.](https://n9e5v4d8.ssl.hwcdn.net/repos/WarframeUsageData2020.json)\n",
    "\n",
    "While DE has already hosts some graphs to better display the data from this year, I'd like to take a deeper dive into some of it. For my purposes, I will be using only the PC playerbase's data.\n",
    "\n"
   ],
   "cell_type": "markdown",
   "metadata": {}
  },
  {
   "cell_type": "code",
   "execution_count": 31,
   "metadata": {
    "tags": []
   },
   "outputs": [],
   "source": [
    "import pandas as pd\n",
    "import pprint\n",
    "from pandas.io.json import json_normalize\n",
    "import plotly.express as px\n"
   ]
  },
  {
   "cell_type": "code",
   "execution_count": 24,
   "metadata": {
    "tags": []
   },
   "outputs": [
    {
     "output_type": "execute_result",
     "data": {
      "text/plain": [
       "Melee        {'ACK & BRUNT': {'ALL': 0.0006748890661020001,...\n",
       "Primary      {'ACCELTRA': {'ALL': 0.07952562439697501, '0':...\n",
       "Secondary    {'ACRID': {'ALL': 0.0008164363367200001, '7': ...\n",
       "Warframe     {'ASH': {'ALL': 0.001782014470978, '0': 0.0003...\n",
       "Name: PC, dtype: object"
      ]
     },
     "metadata": {},
     "execution_count": 24
    }
   ],
   "source": [
    "df = pd.read_json('WarframeUsageData2020.json')\n",
    "#Making it so the dataframe is only using the PC player data.\n",
    "df = df['PC']\n",
    "#Let's see what it looks like.\n",
    "df"
   ]
  },
  {
   "source": [
    "# Analyzing the Popularity of Each Warframe\n",
    "\n",
    "Right, so we have ourselves a list of all the Warframes currently in the game, plus the ratio of how long each Warframe is played across all Mastery Rankings - which shows how experienced each player is. \n",
    "\n",
    "You may have noticed that some Warframes show up twice on the list, once with just their name, and other times with \"PRIME\" appended to it. As part of their monetization model, Warframes are first released as their base version, and then a few years down the line the Prime model comes out, which features better stats and a fancy new look, though the gameplay remains the same. For our first bit of analysis, we'll be combining the base frame and (if it exists) the prime frame's playtime."
   ],
   "cell_type": "markdown",
   "metadata": {}
  },
  {
   "cell_type": "code",
   "execution_count": 25,
   "metadata": {
    "tags": []
   },
   "outputs": [],
   "source": [
    "#So we're faced with a conundrum: We want to consolidate the stats from the PRIME frames into the base versions, \n",
    "#rather than keeping them seperate.\n",
    "\n",
    "#We'll start by making a dictionary which will have the Warframe's name as the key and their ratio of playtime as the value.\n",
    "#This can also be done with pandas df.filter() option, but I felt this was easier.\n",
    "warframePlaytimeDict = {}\n",
    "\n",
    "for warframeName in df['Warframe']:\n",
    "    #Looking for any warframes with Prime in their name, so that we can add their playtime values to the \n",
    "    # base frame's playtime values.\n",
    "    \n",
    "    if 'PRIME' in warframeName:\n",
    "        #We'll now use string slicing to remove the PRIME part. I.E. ASH PRIME becomes just ASH.\n",
    "        nameWithoutPrime = warframeName[:-6]\n",
    "\n",
    "        #Now we're going to search that name through our dictionary and see if it matches any existing entry.\n",
    "        #The data is organized in such a way that the base frame's name comes first, then the PRIME version, \n",
    "        # allowing this to work.\n",
    "        if nameWithoutPrime in warframePlaytimeDict.keys():\n",
    "            #With this, we'll take the playtime value of the PRIME frame and add it to the base frame's. \n",
    "            warframePlaytimeDict[nameWithoutPrime] += df['Warframe'][warframeName]['ALL']\n",
    "\n",
    "    else:\n",
    "    #Assuming there's no PRIME in the name, then we can safely add it to our dictionary \n",
    "    # with its playtime value linked to it.\n",
    "        warframePlaytimeDict[warframeName] = df['Warframe'][warframeName]['ALL']\n",
    "        "
   ]
  },
  {
   "source": [
    "Alright, so now we have a dictionary with the name of every Warframe and the percentage value of playtime each one got over 2020. We also have it so that if the frame has a Prime version, we combined the two playtime values into one. Now we can start graphing it."
   ],
   "cell_type": "markdown",
   "metadata": {}
  },
  {
   "cell_type": "code",
   "execution_count": 26,
   "metadata": {},
   "outputs": [
    {
     "output_type": "display_data",
     "data": {
      "application/vnd.plotly.v1+json": {
       "config": {
        "plotlyServerURL": "https://plot.ly"
       },
       "data": [
        {
         "hovertemplate": "Warframe Name=%{x}<br>Usage Percent=%{y}<extra></extra>",
         "legendgroup": "",
         "marker": {
          "color": "MediumPurple",
          "symbol": "circle"
         },
         "mode": "markers",
         "name": "",
         "orientation": "v",
         "showlegend": false,
         "type": "scatter",
         "x": [
          "ASH",
          "ATLAS",
          "BANSHEE",
          "BARUUK",
          "CHROMA",
          "EMBER",
          "EQUINOX",
          "EXCALIBUR",
          "EXCALIBUR UMBRA",
          "FROST",
          "GARA",
          "GARUDA",
          "GAUSS",
          "GRENDEL",
          "HARROW",
          "HILDRYN",
          "HYDROID",
          "INAROS",
          "IVARA",
          "KHORA",
          "LAVOS",
          "LIMBO",
          "LOKI",
          "MAG",
          "MESA",
          "MIRAGE",
          "NEKROS",
          "NEZHA",
          "NIDUS",
          "NOVA",
          "NYX",
          "OBERON",
          "OCTAVIA",
          "PROTEA",
          "REVENANT",
          "RHINO",
          "SARYN",
          "TITANIA",
          "TRINITY",
          "VALKYR",
          "VAUBAN",
          "VOLT",
          "WISP",
          "WUKONG",
          "XAKU",
          "ZEPHYR"
         ],
         "xaxis": "x",
         "y": [
          0.012466334726955,
          0.008056603403799,
          0.004318987401977,
          0.0055256308261300005,
          0.016297824267538,
          0.019882605360762,
          0.016873053612428003,
          0.042200444177702,
          0.031881742016538005,
          0.018277183222597,
          0.007956535616704001,
          0.004055630517466,
          0.015325050727760001,
          0.0023030485053480002,
          0.006891937075672001,
          0.008933899040013,
          0.011966213785195001,
          0.033048745198504,
          0.024704101115742002,
          0.038937999698984004,
          0.001088098161143,
          0.028280619028509004,
          0.021994946826492,
          0.015208553814547,
          0.059742471728336,
          0.017025059577834,
          0.040550458743737,
          0.015714553542075002,
          0.018000640212979,
          0.022336522174215,
          0.004834920083935001,
          0.014241678323187002,
          0.019978290995242003,
          0.01008319167951,
          0.012045744467234,
          0.05890209850762201,
          0.045951757827111,
          0.019011745793955002,
          0.020779391581067,
          0.013278078515206002,
          0.016474028329061002,
          0.062640710490175,
          0.031964738118596,
          0.091453871463185,
          0.0041309194973830005,
          0.004626003574522
         ],
         "yaxis": "y"
        }
       ],
       "layout": {
        "autosize": false,
        "height": 500,
        "legend": {
         "tracegroupgap": 0
        },
        "margin": {
         "t": 60
        },
        "template": {
         "data": {
          "bar": [
           {
            "error_x": {
             "color": "#2a3f5f"
            },
            "error_y": {
             "color": "#2a3f5f"
            },
            "marker": {
             "line": {
              "color": "#E5ECF6",
              "width": 0.5
             }
            },
            "type": "bar"
           }
          ],
          "barpolar": [
           {
            "marker": {
             "line": {
              "color": "#E5ECF6",
              "width": 0.5
             }
            },
            "type": "barpolar"
           }
          ],
          "carpet": [
           {
            "aaxis": {
             "endlinecolor": "#2a3f5f",
             "gridcolor": "white",
             "linecolor": "white",
             "minorgridcolor": "white",
             "startlinecolor": "#2a3f5f"
            },
            "baxis": {
             "endlinecolor": "#2a3f5f",
             "gridcolor": "white",
             "linecolor": "white",
             "minorgridcolor": "white",
             "startlinecolor": "#2a3f5f"
            },
            "type": "carpet"
           }
          ],
          "choropleth": [
           {
            "colorbar": {
             "outlinewidth": 0,
             "ticks": ""
            },
            "type": "choropleth"
           }
          ],
          "contour": [
           {
            "colorbar": {
             "outlinewidth": 0,
             "ticks": ""
            },
            "colorscale": [
             [
              0,
              "#0d0887"
             ],
             [
              0.1111111111111111,
              "#46039f"
             ],
             [
              0.2222222222222222,
              "#7201a8"
             ],
             [
              0.3333333333333333,
              "#9c179e"
             ],
             [
              0.4444444444444444,
              "#bd3786"
             ],
             [
              0.5555555555555556,
              "#d8576b"
             ],
             [
              0.6666666666666666,
              "#ed7953"
             ],
             [
              0.7777777777777778,
              "#fb9f3a"
             ],
             [
              0.8888888888888888,
              "#fdca26"
             ],
             [
              1,
              "#f0f921"
             ]
            ],
            "type": "contour"
           }
          ],
          "contourcarpet": [
           {
            "colorbar": {
             "outlinewidth": 0,
             "ticks": ""
            },
            "type": "contourcarpet"
           }
          ],
          "heatmap": [
           {
            "colorbar": {
             "outlinewidth": 0,
             "ticks": ""
            },
            "colorscale": [
             [
              0,
              "#0d0887"
             ],
             [
              0.1111111111111111,
              "#46039f"
             ],
             [
              0.2222222222222222,
              "#7201a8"
             ],
             [
              0.3333333333333333,
              "#9c179e"
             ],
             [
              0.4444444444444444,
              "#bd3786"
             ],
             [
              0.5555555555555556,
              "#d8576b"
             ],
             [
              0.6666666666666666,
              "#ed7953"
             ],
             [
              0.7777777777777778,
              "#fb9f3a"
             ],
             [
              0.8888888888888888,
              "#fdca26"
             ],
             [
              1,
              "#f0f921"
             ]
            ],
            "type": "heatmap"
           }
          ],
          "heatmapgl": [
           {
            "colorbar": {
             "outlinewidth": 0,
             "ticks": ""
            },
            "colorscale": [
             [
              0,
              "#0d0887"
             ],
             [
              0.1111111111111111,
              "#46039f"
             ],
             [
              0.2222222222222222,
              "#7201a8"
             ],
             [
              0.3333333333333333,
              "#9c179e"
             ],
             [
              0.4444444444444444,
              "#bd3786"
             ],
             [
              0.5555555555555556,
              "#d8576b"
             ],
             [
              0.6666666666666666,
              "#ed7953"
             ],
             [
              0.7777777777777778,
              "#fb9f3a"
             ],
             [
              0.8888888888888888,
              "#fdca26"
             ],
             [
              1,
              "#f0f921"
             ]
            ],
            "type": "heatmapgl"
           }
          ],
          "histogram": [
           {
            "marker": {
             "colorbar": {
              "outlinewidth": 0,
              "ticks": ""
             }
            },
            "type": "histogram"
           }
          ],
          "histogram2d": [
           {
            "colorbar": {
             "outlinewidth": 0,
             "ticks": ""
            },
            "colorscale": [
             [
              0,
              "#0d0887"
             ],
             [
              0.1111111111111111,
              "#46039f"
             ],
             [
              0.2222222222222222,
              "#7201a8"
             ],
             [
              0.3333333333333333,
              "#9c179e"
             ],
             [
              0.4444444444444444,
              "#bd3786"
             ],
             [
              0.5555555555555556,
              "#d8576b"
             ],
             [
              0.6666666666666666,
              "#ed7953"
             ],
             [
              0.7777777777777778,
              "#fb9f3a"
             ],
             [
              0.8888888888888888,
              "#fdca26"
             ],
             [
              1,
              "#f0f921"
             ]
            ],
            "type": "histogram2d"
           }
          ],
          "histogram2dcontour": [
           {
            "colorbar": {
             "outlinewidth": 0,
             "ticks": ""
            },
            "colorscale": [
             [
              0,
              "#0d0887"
             ],
             [
              0.1111111111111111,
              "#46039f"
             ],
             [
              0.2222222222222222,
              "#7201a8"
             ],
             [
              0.3333333333333333,
              "#9c179e"
             ],
             [
              0.4444444444444444,
              "#bd3786"
             ],
             [
              0.5555555555555556,
              "#d8576b"
             ],
             [
              0.6666666666666666,
              "#ed7953"
             ],
             [
              0.7777777777777778,
              "#fb9f3a"
             ],
             [
              0.8888888888888888,
              "#fdca26"
             ],
             [
              1,
              "#f0f921"
             ]
            ],
            "type": "histogram2dcontour"
           }
          ],
          "mesh3d": [
           {
            "colorbar": {
             "outlinewidth": 0,
             "ticks": ""
            },
            "type": "mesh3d"
           }
          ],
          "parcoords": [
           {
            "line": {
             "colorbar": {
              "outlinewidth": 0,
              "ticks": ""
             }
            },
            "type": "parcoords"
           }
          ],
          "pie": [
           {
            "automargin": true,
            "type": "pie"
           }
          ],
          "scatter": [
           {
            "marker": {
             "colorbar": {
              "outlinewidth": 0,
              "ticks": ""
             }
            },
            "type": "scatter"
           }
          ],
          "scatter3d": [
           {
            "line": {
             "colorbar": {
              "outlinewidth": 0,
              "ticks": ""
             }
            },
            "marker": {
             "colorbar": {
              "outlinewidth": 0,
              "ticks": ""
             }
            },
            "type": "scatter3d"
           }
          ],
          "scattercarpet": [
           {
            "marker": {
             "colorbar": {
              "outlinewidth": 0,
              "ticks": ""
             }
            },
            "type": "scattercarpet"
           }
          ],
          "scattergeo": [
           {
            "marker": {
             "colorbar": {
              "outlinewidth": 0,
              "ticks": ""
             }
            },
            "type": "scattergeo"
           }
          ],
          "scattergl": [
           {
            "marker": {
             "colorbar": {
              "outlinewidth": 0,
              "ticks": ""
             }
            },
            "type": "scattergl"
           }
          ],
          "scattermapbox": [
           {
            "marker": {
             "colorbar": {
              "outlinewidth": 0,
              "ticks": ""
             }
            },
            "type": "scattermapbox"
           }
          ],
          "scatterpolar": [
           {
            "marker": {
             "colorbar": {
              "outlinewidth": 0,
              "ticks": ""
             }
            },
            "type": "scatterpolar"
           }
          ],
          "scatterpolargl": [
           {
            "marker": {
             "colorbar": {
              "outlinewidth": 0,
              "ticks": ""
             }
            },
            "type": "scatterpolargl"
           }
          ],
          "scatterternary": [
           {
            "marker": {
             "colorbar": {
              "outlinewidth": 0,
              "ticks": ""
             }
            },
            "type": "scatterternary"
           }
          ],
          "surface": [
           {
            "colorbar": {
             "outlinewidth": 0,
             "ticks": ""
            },
            "colorscale": [
             [
              0,
              "#0d0887"
             ],
             [
              0.1111111111111111,
              "#46039f"
             ],
             [
              0.2222222222222222,
              "#7201a8"
             ],
             [
              0.3333333333333333,
              "#9c179e"
             ],
             [
              0.4444444444444444,
              "#bd3786"
             ],
             [
              0.5555555555555556,
              "#d8576b"
             ],
             [
              0.6666666666666666,
              "#ed7953"
             ],
             [
              0.7777777777777778,
              "#fb9f3a"
             ],
             [
              0.8888888888888888,
              "#fdca26"
             ],
             [
              1,
              "#f0f921"
             ]
            ],
            "type": "surface"
           }
          ],
          "table": [
           {
            "cells": {
             "fill": {
              "color": "#EBF0F8"
             },
             "line": {
              "color": "white"
             }
            },
            "header": {
             "fill": {
              "color": "#C8D4E3"
             },
             "line": {
              "color": "white"
             }
            },
            "type": "table"
           }
          ]
         },
         "layout": {
          "annotationdefaults": {
           "arrowcolor": "#2a3f5f",
           "arrowhead": 0,
           "arrowwidth": 1
          },
          "coloraxis": {
           "colorbar": {
            "outlinewidth": 0,
            "ticks": ""
           }
          },
          "colorscale": {
           "diverging": [
            [
             0,
             "#8e0152"
            ],
            [
             0.1,
             "#c51b7d"
            ],
            [
             0.2,
             "#de77ae"
            ],
            [
             0.3,
             "#f1b6da"
            ],
            [
             0.4,
             "#fde0ef"
            ],
            [
             0.5,
             "#f7f7f7"
            ],
            [
             0.6,
             "#e6f5d0"
            ],
            [
             0.7,
             "#b8e186"
            ],
            [
             0.8,
             "#7fbc41"
            ],
            [
             0.9,
             "#4d9221"
            ],
            [
             1,
             "#276419"
            ]
           ],
           "sequential": [
            [
             0,
             "#0d0887"
            ],
            [
             0.1111111111111111,
             "#46039f"
            ],
            [
             0.2222222222222222,
             "#7201a8"
            ],
            [
             0.3333333333333333,
             "#9c179e"
            ],
            [
             0.4444444444444444,
             "#bd3786"
            ],
            [
             0.5555555555555556,
             "#d8576b"
            ],
            [
             0.6666666666666666,
             "#ed7953"
            ],
            [
             0.7777777777777778,
             "#fb9f3a"
            ],
            [
             0.8888888888888888,
             "#fdca26"
            ],
            [
             1,
             "#f0f921"
            ]
           ],
           "sequentialminus": [
            [
             0,
             "#0d0887"
            ],
            [
             0.1111111111111111,
             "#46039f"
            ],
            [
             0.2222222222222222,
             "#7201a8"
            ],
            [
             0.3333333333333333,
             "#9c179e"
            ],
            [
             0.4444444444444444,
             "#bd3786"
            ],
            [
             0.5555555555555556,
             "#d8576b"
            ],
            [
             0.6666666666666666,
             "#ed7953"
            ],
            [
             0.7777777777777778,
             "#fb9f3a"
            ],
            [
             0.8888888888888888,
             "#fdca26"
            ],
            [
             1,
             "#f0f921"
            ]
           ]
          },
          "colorway": [
           "#636efa",
           "#EF553B",
           "#00cc96",
           "#ab63fa",
           "#FFA15A",
           "#19d3f3",
           "#FF6692",
           "#B6E880",
           "#FF97FF",
           "#FECB52"
          ],
          "font": {
           "color": "#2a3f5f"
          },
          "geo": {
           "bgcolor": "white",
           "lakecolor": "white",
           "landcolor": "#E5ECF6",
           "showlakes": true,
           "showland": true,
           "subunitcolor": "white"
          },
          "hoverlabel": {
           "align": "left"
          },
          "hovermode": "closest",
          "mapbox": {
           "style": "light"
          },
          "paper_bgcolor": "white",
          "plot_bgcolor": "#E5ECF6",
          "polar": {
           "angularaxis": {
            "gridcolor": "white",
            "linecolor": "white",
            "ticks": ""
           },
           "bgcolor": "#E5ECF6",
           "radialaxis": {
            "gridcolor": "white",
            "linecolor": "white",
            "ticks": ""
           }
          },
          "scene": {
           "xaxis": {
            "backgroundcolor": "#E5ECF6",
            "gridcolor": "white",
            "gridwidth": 2,
            "linecolor": "white",
            "showbackground": true,
            "ticks": "",
            "zerolinecolor": "white"
           },
           "yaxis": {
            "backgroundcolor": "#E5ECF6",
            "gridcolor": "white",
            "gridwidth": 2,
            "linecolor": "white",
            "showbackground": true,
            "ticks": "",
            "zerolinecolor": "white"
           },
           "zaxis": {
            "backgroundcolor": "#E5ECF6",
            "gridcolor": "white",
            "gridwidth": 2,
            "linecolor": "white",
            "showbackground": true,
            "ticks": "",
            "zerolinecolor": "white"
           }
          },
          "shapedefaults": {
           "line": {
            "color": "#2a3f5f"
           }
          },
          "ternary": {
           "aaxis": {
            "gridcolor": "white",
            "linecolor": "white",
            "ticks": ""
           },
           "baxis": {
            "gridcolor": "white",
            "linecolor": "white",
            "ticks": ""
           },
           "bgcolor": "#E5ECF6",
           "caxis": {
            "gridcolor": "white",
            "linecolor": "white",
            "ticks": ""
           }
          },
          "title": {
           "x": 0.05
          },
          "xaxis": {
           "automargin": true,
           "gridcolor": "white",
           "linecolor": "white",
           "ticks": "",
           "title": {
            "standoff": 15
           },
           "zerolinecolor": "white",
           "zerolinewidth": 2
          },
          "yaxis": {
           "automargin": true,
           "gridcolor": "white",
           "linecolor": "white",
           "ticks": "",
           "title": {
            "standoff": 15
           },
           "zerolinecolor": "white",
           "zerolinewidth": 2
          }
         }
        },
        "title": {
         "text": "Percent of Warframe Playtime in 2020 by Frame"
        },
        "width": 1300,
        "xaxis": {
         "anchor": "y",
         "domain": [
          0,
          1
         ],
         "dtick": 1,
         "tickmode": "linear",
         "title": {
          "text": "Warframes"
         }
        },
        "yaxis": {
         "anchor": "x",
         "domain": [
          0,
          1
         ],
         "tickformat": "0.1%",
         "title": {
          "text": "Percent of Playtime"
         }
        }
       }
      }
     },
     "metadata": {}
    }
   ],
   "source": [
    "\n",
    "fig = px.scatter(x=warframePlaytimeDict.keys(), y=warframePlaytimeDict.values(),\n",
    "    #Changing the labels/legend to be a bit more understandable.\n",
    "    labels = {'x':'Warframe Name', 'y': 'Usage Percent'} \n",
    "    ).update_traces(marker=dict(color='MediumPurple'))\n",
    "fig.update_layout(\n",
    "    #There's a lot of data points here, so we're going to widen the frame a bit.\n",
    "    autosize = False,\n",
    "    width=1300,\n",
    "    height=500,\n",
    "    title = 'Percent of Warframe Playtime in 2020 by Frame',\n",
    "\n",
    "    xaxis = dict(\n",
    "        title = 'Warframes',\n",
    "        #This will allow each frame's name to show up as a data tick.\n",
    "        tickmode = 'linear',\n",
    "        dtick = 1\n",
    "    ),\n",
    "\n",
    "    yaxis = dict(\n",
    "        #This will show the y-axis values in percentage format, and clean up the point precision.\n",
    "        tickformat= '0.1%',\n",
    "        title = 'Percent of Playtime'\n",
    "    )\n",
    ")\n",
    "\n",
    "fig.show()\n"
   ]
  },
  {
   "source": [
    "# Analysis\n",
    "According to the graph, the playtime for frames varies by quite a lot. Wukong, the melee-focused frame taking inspiration from *Journey to the West's* Sun Wukong is by far the most popular Warframe, across all Mastery Ratings. \n",
    "I would say this could be attributed to a few things:\n",
    "<ul>\n",
    "    <li>The parts required to craft the Wukong Warframe, in its base version or Prime version, are fairly easy to get. </li>\n",
    "    <li>Wukong is an easy frame to pick up, with an emphasis on survivability, something which is attractive to new and experienced players alike. </li>\n",
    "    <li>He does well in all types of content, unlike certain Warframes like Nidus which suffer from only being good on certain mission types, like Defense.</li>\n",
    "</ul>\n",
    "\n",
    "Conversely, the frame with the lowest playtime is Lavos. This should be taken with a grain of salt, however, because this data was collected over the course of 2020 and Lavos was only released on the 18th of December. Thus, we should look at another frame with low playtime, one that was not released during 2020. \n",
    "\n",
    "The next lowest playtime is Grendel who was released in 2019. I would say this can be attributed almost exclusively towards the difficulty of acquiring his crafting materials, which is a massive time-sink. Many players, including myself, put off acquiring him just because it was so much work. \n",
    "\n",
    "Two other Warframes, Nyx and Zephyr, also suffer from low playtime. Neither is particularly difficult to acquire. While Nyx has not received any significant changes, Zephyr just received a reworking of her kit. Time will tell whether that will salvage her playtime.\n",
    "\n",
    "\n"
   ],
   "cell_type": "markdown",
   "metadata": {}
  },
  {
   "source": [
    "# Finding the Most Popular Weapons by Type\n",
    "Warframe has three types of weapons. Primary weapons, secondary weapons, and melee weapons. Along with the aforementioned Warfames, the 2020 data also notes how much playtime each weapon had.\n",
    "I will use pandas to find the three most popular weapons of each type and plot it. "
   ],
   "cell_type": "markdown",
   "metadata": {}
  },
  {
   "source": [
    "#We'll start by dropping the Warframes column as it's not in our scope for this part. This will leave the Primary, Secondary and Melee columns.\n",
    "top3Subset = df.drop(['Warframe'])\n",
    "#Next, we'll normalize the subset. The reason I'm doing this is to flatten it so that each column holds only a single value.\n",
    "#This will make narrowing down our dataframe very easy.\n",
    "top3Subset = pd.json_normalize(top3Subset)\n",
    "#Once again, I'm going to gather data gathered across all mastery ratings. \n",
    "top3Subset = top3Subset.filter(like = '.ALL').transpose()\n",
    "#So now we have a row for each weapon, with each column representing a weapon type. \n",
    "#We will now find the largest values for each column, thus finding the three most popular weapons of each type. \n",
    "weapons = []\n",
    "for x in range (0, 3):\n",
    "    #Iterating by column, and using dropna() to make it so we get only three rows per column/iteration.\n",
    "    weapons.append(top3Subset.nlargest(3, [x]).dropna(axis=1).rename(\n",
    "        #Next, we're going to rename the columns so they show what type of weapon they are.\n",
    "        columns={0: \"Melee\", 1:'Primary', 2: 'Secondary'},\n",
    "        #Finally, we'll use a lambda function to edit the weapon's name so that it no longer includes the \".ALL\"\n",
    "        #and we'll give it more appropriate capitalization.\n",
    "        index =lambda x: x.replace('.ALL', '').title()\n",
    "        ))\n",
    "\n",
    "#Finally, combining the dataframes back into one.\n",
    "weapons = pd.concat(weapons)\n",
    "\n",
    "fig = px.bar(weapons, \n",
    "    #Once again, changing the labels/legend to be more understandable.\n",
    "    labels = {'variable':'Type of Weapon', 'index': 'Weapon Name', 'value': 'Usage Percent'} \n",
    "    )\n",
    "\n",
    "fig.update_layout(\n",
    "    title = 'Top Three Warframe Weapons by Type',\n",
    "\n",
    "    xaxis = dict(\n",
    "        title = 'Weapons',\n",
    "    ),\n",
    "\n",
    "    yaxis = dict(\n",
    "        tickformat= '0.1%',\n",
    "        title = 'Percent of Playtime'\n",
    "    ))\n",
    "    \n",
    "fig.show()\n"
   ],
   "cell_type": "code",
   "metadata": {},
   "execution_count": 27,
   "outputs": [
    {
     "output_type": "display_data",
     "data": {
      "application/vnd.plotly.v1+json": {
       "config": {
        "plotlyServerURL": "https://plot.ly"
       },
       "data": [
        {
         "alignmentgroup": "True",
         "hovertemplate": "Type of Weapon=Melee<br>Weapon Name=%{x}<br>Usage Percent=%{y}<extra></extra>",
         "legendgroup": "Melee",
         "marker": {
          "color": "#636efa"
         },
         "name": "Melee",
         "offsetgroup": "Melee",
         "orientation": "v",
         "showlegend": true,
         "textposition": "auto",
         "type": "bar",
         "x": [
          "Broken War",
          "Redeemer Prime",
          "Skiajati",
          "Ignis Wraith",
          "Kuva Bramma",
          "Acceltra",
          "Kuva Nukor",
          "Catchmoon",
          "Pyrana Prime"
         ],
         "xaxis": "x",
         "y": [
          0.05880581896379,
          0.05395941406508101,
          0.05348801081724001,
          null,
          null,
          null,
          null,
          null,
          null
         ],
         "yaxis": "y"
        },
        {
         "alignmentgroup": "True",
         "hovertemplate": "Type of Weapon=Primary<br>Weapon Name=%{x}<br>Usage Percent=%{y}<extra></extra>",
         "legendgroup": "Primary",
         "marker": {
          "color": "#EF553B"
         },
         "name": "Primary",
         "offsetgroup": "Primary",
         "orientation": "v",
         "showlegend": true,
         "textposition": "auto",
         "type": "bar",
         "x": [
          "Broken War",
          "Redeemer Prime",
          "Skiajati",
          "Ignis Wraith",
          "Kuva Bramma",
          "Acceltra",
          "Kuva Nukor",
          "Catchmoon",
          "Pyrana Prime"
         ],
         "xaxis": "x",
         "y": [
          null,
          null,
          null,
          0.11322855885343601,
          0.087196107970503,
          0.07952562439697501,
          null,
          null,
          null
         ],
         "yaxis": "y"
        },
        {
         "alignmentgroup": "True",
         "hovertemplate": "Type of Weapon=Secondary<br>Weapon Name=%{x}<br>Usage Percent=%{y}<extra></extra>",
         "legendgroup": "Secondary",
         "marker": {
          "color": "#00cc96"
         },
         "name": "Secondary",
         "offsetgroup": "Secondary",
         "orientation": "v",
         "showlegend": true,
         "textposition": "auto",
         "type": "bar",
         "x": [
          "Broken War",
          "Redeemer Prime",
          "Skiajati",
          "Ignis Wraith",
          "Kuva Bramma",
          "Acceltra",
          "Kuva Nukor",
          "Catchmoon",
          "Pyrana Prime"
         ],
         "xaxis": "x",
         "y": [
          null,
          null,
          null,
          null,
          null,
          null,
          0.17405609841236303,
          0.088043284194322,
          0.06617895008636701
         ],
         "yaxis": "y"
        }
       ],
       "layout": {
        "barmode": "relative",
        "legend": {
         "title": {
          "text": "Type of Weapon"
         },
         "tracegroupgap": 0
        },
        "margin": {
         "t": 60
        },
        "template": {
         "data": {
          "bar": [
           {
            "error_x": {
             "color": "#2a3f5f"
            },
            "error_y": {
             "color": "#2a3f5f"
            },
            "marker": {
             "line": {
              "color": "#E5ECF6",
              "width": 0.5
             }
            },
            "type": "bar"
           }
          ],
          "barpolar": [
           {
            "marker": {
             "line": {
              "color": "#E5ECF6",
              "width": 0.5
             }
            },
            "type": "barpolar"
           }
          ],
          "carpet": [
           {
            "aaxis": {
             "endlinecolor": "#2a3f5f",
             "gridcolor": "white",
             "linecolor": "white",
             "minorgridcolor": "white",
             "startlinecolor": "#2a3f5f"
            },
            "baxis": {
             "endlinecolor": "#2a3f5f",
             "gridcolor": "white",
             "linecolor": "white",
             "minorgridcolor": "white",
             "startlinecolor": "#2a3f5f"
            },
            "type": "carpet"
           }
          ],
          "choropleth": [
           {
            "colorbar": {
             "outlinewidth": 0,
             "ticks": ""
            },
            "type": "choropleth"
           }
          ],
          "contour": [
           {
            "colorbar": {
             "outlinewidth": 0,
             "ticks": ""
            },
            "colorscale": [
             [
              0,
              "#0d0887"
             ],
             [
              0.1111111111111111,
              "#46039f"
             ],
             [
              0.2222222222222222,
              "#7201a8"
             ],
             [
              0.3333333333333333,
              "#9c179e"
             ],
             [
              0.4444444444444444,
              "#bd3786"
             ],
             [
              0.5555555555555556,
              "#d8576b"
             ],
             [
              0.6666666666666666,
              "#ed7953"
             ],
             [
              0.7777777777777778,
              "#fb9f3a"
             ],
             [
              0.8888888888888888,
              "#fdca26"
             ],
             [
              1,
              "#f0f921"
             ]
            ],
            "type": "contour"
           }
          ],
          "contourcarpet": [
           {
            "colorbar": {
             "outlinewidth": 0,
             "ticks": ""
            },
            "type": "contourcarpet"
           }
          ],
          "heatmap": [
           {
            "colorbar": {
             "outlinewidth": 0,
             "ticks": ""
            },
            "colorscale": [
             [
              0,
              "#0d0887"
             ],
             [
              0.1111111111111111,
              "#46039f"
             ],
             [
              0.2222222222222222,
              "#7201a8"
             ],
             [
              0.3333333333333333,
              "#9c179e"
             ],
             [
              0.4444444444444444,
              "#bd3786"
             ],
             [
              0.5555555555555556,
              "#d8576b"
             ],
             [
              0.6666666666666666,
              "#ed7953"
             ],
             [
              0.7777777777777778,
              "#fb9f3a"
             ],
             [
              0.8888888888888888,
              "#fdca26"
             ],
             [
              1,
              "#f0f921"
             ]
            ],
            "type": "heatmap"
           }
          ],
          "heatmapgl": [
           {
            "colorbar": {
             "outlinewidth": 0,
             "ticks": ""
            },
            "colorscale": [
             [
              0,
              "#0d0887"
             ],
             [
              0.1111111111111111,
              "#46039f"
             ],
             [
              0.2222222222222222,
              "#7201a8"
             ],
             [
              0.3333333333333333,
              "#9c179e"
             ],
             [
              0.4444444444444444,
              "#bd3786"
             ],
             [
              0.5555555555555556,
              "#d8576b"
             ],
             [
              0.6666666666666666,
              "#ed7953"
             ],
             [
              0.7777777777777778,
              "#fb9f3a"
             ],
             [
              0.8888888888888888,
              "#fdca26"
             ],
             [
              1,
              "#f0f921"
             ]
            ],
            "type": "heatmapgl"
           }
          ],
          "histogram": [
           {
            "marker": {
             "colorbar": {
              "outlinewidth": 0,
              "ticks": ""
             }
            },
            "type": "histogram"
           }
          ],
          "histogram2d": [
           {
            "colorbar": {
             "outlinewidth": 0,
             "ticks": ""
            },
            "colorscale": [
             [
              0,
              "#0d0887"
             ],
             [
              0.1111111111111111,
              "#46039f"
             ],
             [
              0.2222222222222222,
              "#7201a8"
             ],
             [
              0.3333333333333333,
              "#9c179e"
             ],
             [
              0.4444444444444444,
              "#bd3786"
             ],
             [
              0.5555555555555556,
              "#d8576b"
             ],
             [
              0.6666666666666666,
              "#ed7953"
             ],
             [
              0.7777777777777778,
              "#fb9f3a"
             ],
             [
              0.8888888888888888,
              "#fdca26"
             ],
             [
              1,
              "#f0f921"
             ]
            ],
            "type": "histogram2d"
           }
          ],
          "histogram2dcontour": [
           {
            "colorbar": {
             "outlinewidth": 0,
             "ticks": ""
            },
            "colorscale": [
             [
              0,
              "#0d0887"
             ],
             [
              0.1111111111111111,
              "#46039f"
             ],
             [
              0.2222222222222222,
              "#7201a8"
             ],
             [
              0.3333333333333333,
              "#9c179e"
             ],
             [
              0.4444444444444444,
              "#bd3786"
             ],
             [
              0.5555555555555556,
              "#d8576b"
             ],
             [
              0.6666666666666666,
              "#ed7953"
             ],
             [
              0.7777777777777778,
              "#fb9f3a"
             ],
             [
              0.8888888888888888,
              "#fdca26"
             ],
             [
              1,
              "#f0f921"
             ]
            ],
            "type": "histogram2dcontour"
           }
          ],
          "mesh3d": [
           {
            "colorbar": {
             "outlinewidth": 0,
             "ticks": ""
            },
            "type": "mesh3d"
           }
          ],
          "parcoords": [
           {
            "line": {
             "colorbar": {
              "outlinewidth": 0,
              "ticks": ""
             }
            },
            "type": "parcoords"
           }
          ],
          "pie": [
           {
            "automargin": true,
            "type": "pie"
           }
          ],
          "scatter": [
           {
            "marker": {
             "colorbar": {
              "outlinewidth": 0,
              "ticks": ""
             }
            },
            "type": "scatter"
           }
          ],
          "scatter3d": [
           {
            "line": {
             "colorbar": {
              "outlinewidth": 0,
              "ticks": ""
             }
            },
            "marker": {
             "colorbar": {
              "outlinewidth": 0,
              "ticks": ""
             }
            },
            "type": "scatter3d"
           }
          ],
          "scattercarpet": [
           {
            "marker": {
             "colorbar": {
              "outlinewidth": 0,
              "ticks": ""
             }
            },
            "type": "scattercarpet"
           }
          ],
          "scattergeo": [
           {
            "marker": {
             "colorbar": {
              "outlinewidth": 0,
              "ticks": ""
             }
            },
            "type": "scattergeo"
           }
          ],
          "scattergl": [
           {
            "marker": {
             "colorbar": {
              "outlinewidth": 0,
              "ticks": ""
             }
            },
            "type": "scattergl"
           }
          ],
          "scattermapbox": [
           {
            "marker": {
             "colorbar": {
              "outlinewidth": 0,
              "ticks": ""
             }
            },
            "type": "scattermapbox"
           }
          ],
          "scatterpolar": [
           {
            "marker": {
             "colorbar": {
              "outlinewidth": 0,
              "ticks": ""
             }
            },
            "type": "scatterpolar"
           }
          ],
          "scatterpolargl": [
           {
            "marker": {
             "colorbar": {
              "outlinewidth": 0,
              "ticks": ""
             }
            },
            "type": "scatterpolargl"
           }
          ],
          "scatterternary": [
           {
            "marker": {
             "colorbar": {
              "outlinewidth": 0,
              "ticks": ""
             }
            },
            "type": "scatterternary"
           }
          ],
          "surface": [
           {
            "colorbar": {
             "outlinewidth": 0,
             "ticks": ""
            },
            "colorscale": [
             [
              0,
              "#0d0887"
             ],
             [
              0.1111111111111111,
              "#46039f"
             ],
             [
              0.2222222222222222,
              "#7201a8"
             ],
             [
              0.3333333333333333,
              "#9c179e"
             ],
             [
              0.4444444444444444,
              "#bd3786"
             ],
             [
              0.5555555555555556,
              "#d8576b"
             ],
             [
              0.6666666666666666,
              "#ed7953"
             ],
             [
              0.7777777777777778,
              "#fb9f3a"
             ],
             [
              0.8888888888888888,
              "#fdca26"
             ],
             [
              1,
              "#f0f921"
             ]
            ],
            "type": "surface"
           }
          ],
          "table": [
           {
            "cells": {
             "fill": {
              "color": "#EBF0F8"
             },
             "line": {
              "color": "white"
             }
            },
            "header": {
             "fill": {
              "color": "#C8D4E3"
             },
             "line": {
              "color": "white"
             }
            },
            "type": "table"
           }
          ]
         },
         "layout": {
          "annotationdefaults": {
           "arrowcolor": "#2a3f5f",
           "arrowhead": 0,
           "arrowwidth": 1
          },
          "coloraxis": {
           "colorbar": {
            "outlinewidth": 0,
            "ticks": ""
           }
          },
          "colorscale": {
           "diverging": [
            [
             0,
             "#8e0152"
            ],
            [
             0.1,
             "#c51b7d"
            ],
            [
             0.2,
             "#de77ae"
            ],
            [
             0.3,
             "#f1b6da"
            ],
            [
             0.4,
             "#fde0ef"
            ],
            [
             0.5,
             "#f7f7f7"
            ],
            [
             0.6,
             "#e6f5d0"
            ],
            [
             0.7,
             "#b8e186"
            ],
            [
             0.8,
             "#7fbc41"
            ],
            [
             0.9,
             "#4d9221"
            ],
            [
             1,
             "#276419"
            ]
           ],
           "sequential": [
            [
             0,
             "#0d0887"
            ],
            [
             0.1111111111111111,
             "#46039f"
            ],
            [
             0.2222222222222222,
             "#7201a8"
            ],
            [
             0.3333333333333333,
             "#9c179e"
            ],
            [
             0.4444444444444444,
             "#bd3786"
            ],
            [
             0.5555555555555556,
             "#d8576b"
            ],
            [
             0.6666666666666666,
             "#ed7953"
            ],
            [
             0.7777777777777778,
             "#fb9f3a"
            ],
            [
             0.8888888888888888,
             "#fdca26"
            ],
            [
             1,
             "#f0f921"
            ]
           ],
           "sequentialminus": [
            [
             0,
             "#0d0887"
            ],
            [
             0.1111111111111111,
             "#46039f"
            ],
            [
             0.2222222222222222,
             "#7201a8"
            ],
            [
             0.3333333333333333,
             "#9c179e"
            ],
            [
             0.4444444444444444,
             "#bd3786"
            ],
            [
             0.5555555555555556,
             "#d8576b"
            ],
            [
             0.6666666666666666,
             "#ed7953"
            ],
            [
             0.7777777777777778,
             "#fb9f3a"
            ],
            [
             0.8888888888888888,
             "#fdca26"
            ],
            [
             1,
             "#f0f921"
            ]
           ]
          },
          "colorway": [
           "#636efa",
           "#EF553B",
           "#00cc96",
           "#ab63fa",
           "#FFA15A",
           "#19d3f3",
           "#FF6692",
           "#B6E880",
           "#FF97FF",
           "#FECB52"
          ],
          "font": {
           "color": "#2a3f5f"
          },
          "geo": {
           "bgcolor": "white",
           "lakecolor": "white",
           "landcolor": "#E5ECF6",
           "showlakes": true,
           "showland": true,
           "subunitcolor": "white"
          },
          "hoverlabel": {
           "align": "left"
          },
          "hovermode": "closest",
          "mapbox": {
           "style": "light"
          },
          "paper_bgcolor": "white",
          "plot_bgcolor": "#E5ECF6",
          "polar": {
           "angularaxis": {
            "gridcolor": "white",
            "linecolor": "white",
            "ticks": ""
           },
           "bgcolor": "#E5ECF6",
           "radialaxis": {
            "gridcolor": "white",
            "linecolor": "white",
            "ticks": ""
           }
          },
          "scene": {
           "xaxis": {
            "backgroundcolor": "#E5ECF6",
            "gridcolor": "white",
            "gridwidth": 2,
            "linecolor": "white",
            "showbackground": true,
            "ticks": "",
            "zerolinecolor": "white"
           },
           "yaxis": {
            "backgroundcolor": "#E5ECF6",
            "gridcolor": "white",
            "gridwidth": 2,
            "linecolor": "white",
            "showbackground": true,
            "ticks": "",
            "zerolinecolor": "white"
           },
           "zaxis": {
            "backgroundcolor": "#E5ECF6",
            "gridcolor": "white",
            "gridwidth": 2,
            "linecolor": "white",
            "showbackground": true,
            "ticks": "",
            "zerolinecolor": "white"
           }
          },
          "shapedefaults": {
           "line": {
            "color": "#2a3f5f"
           }
          },
          "ternary": {
           "aaxis": {
            "gridcolor": "white",
            "linecolor": "white",
            "ticks": ""
           },
           "baxis": {
            "gridcolor": "white",
            "linecolor": "white",
            "ticks": ""
           },
           "bgcolor": "#E5ECF6",
           "caxis": {
            "gridcolor": "white",
            "linecolor": "white",
            "ticks": ""
           }
          },
          "title": {
           "x": 0.05
          },
          "xaxis": {
           "automargin": true,
           "gridcolor": "white",
           "linecolor": "white",
           "ticks": "",
           "title": {
            "standoff": 15
           },
           "zerolinecolor": "white",
           "zerolinewidth": 2
          },
          "yaxis": {
           "automargin": true,
           "gridcolor": "white",
           "linecolor": "white",
           "ticks": "",
           "title": {
            "standoff": 15
           },
           "zerolinecolor": "white",
           "zerolinewidth": 2
          }
         }
        },
        "title": {
         "text": "Top Three Warframe Weapons by Type"
        },
        "xaxis": {
         "anchor": "y",
         "domain": [
          0,
          1
         ],
         "title": {
          "text": "Weapons"
         }
        },
        "yaxis": {
         "anchor": "x",
         "domain": [
          0,
          1
         ],
         "tickformat": "0.1%",
         "title": {
          "text": "Percent of Playtime"
         }
        }
       }
      }
     },
     "metadata": {}
    }
   ]
  },
  {
   "source": [
    "# Analysis by Type\n",
    "## Melee\n",
    "Melee weapons as a whole appear fairly diverse, with the top three weapons making up only 15% of the total playtime for that slot. Broken War, a straight sword, and Skiajati, a katana, are also some of the few weapons one receives from playing the story, so their high playtime is understandable. The gunblade Redeemer Prime is likely popular because of its incredible power and ease of crafting, being likely the easiest gunblade-class weapon to create. \n",
    "## Primary\n",
    "For primary weapons, we see three weapons dominate 28% of the total playtime for that slot. The Ignis Wraith, a flamethrower, is a well-known favorite due to its easy crafting process, great power, and low Mastery Rating requirement. The Kuva Bramma is a more interesting case, particularly considering that it takes some work to obtain. It's very rare that a weapon is so powerful that it receives a direct nerf, but the Kuva Bramma managed to receive that dubious honor midway through 2020. Despite that, its total playtime remains very high. \n",
    "Lastly, there's the Acceletra, a micro-missile launcher. While the Acceletra is quite strong, its level of popularity was quite unexpected to me. The Acceletra may be popular to newer players for similar reasons to the Ignis Wraith: an easy crafting process and a low Mastery Rating requirement.\n",
    "## Secondary\n",
    "Lastly, for secondary weapons we see just three weapons taking up roughly a third of the total playtime for that slot, with the Kuva Nukor being by far the most popular weapon of 2020. The Kuva Nukor, a beam weapon which arcs to nearby targets, is well-known for being able to clear whole rooms. The Catchmoon modular part is in a sense multiple weapons, as this gun can actually be heavily customized. The Catchmoon is not the only weapon like this, but it was the only one popular enough to make it into this plot. Finally, there's the Pyrana Prime, a pistol-shotgun which was very easy to get in 2020, was easy to mod, and had fantastic damage output.\n",
    "\n",
    "With over 110 weapons in the secondary slot alone, it is a little concerning that just three weapons take up such a large portion of the playtime. The Kuva Nukor could warrant a nerf, or some of the less popular guns could receive a buff to tighten the playtime figures. "
   ],
   "cell_type": "markdown",
   "metadata": {}
  },
  {
   "source": [
    "# What Are All the Experienced Players Using?\n",
    "Now that we've found what's generally popular across all Mastery Ratings, it's time to see what the most experienced players are using. \n",
    "## Method\n",
    "We'll be classifying experienced players as anyone Mastery Rating 25 or higher. According to Steam's global achievement stats, this encompasses about 5% of the playerbase that has beaten the tutorial. Just like in the previous graph, we'll be finding the top three pieces of equipment for each category, though this time we will also be looking for the three most popular Warframes. \n",
    "## How does one level up their Mastery Rating, anyways?\n",
    "Mastery Rating experience points are gained by leveling up a piece of equipment to 30. What this means is that the higher Mastery Rating players have used more of the game's weaponry and Warframes, and have experienced more of what the game has to offer. It follows then that higher M.R. players are less constricted by limited resources and have greater choice in their loadouts."
   ],
   "cell_type": "markdown",
   "metadata": {}
  },
  {
   "cell_type": "code",
   "execution_count": 28,
   "metadata": {},
   "outputs": [],
   "source": [
    "#In this cell we'll be splitting and combining multiple times. \n",
    "#We'll begin by getting the columns that show the data for M.R. 25 and above players. \n",
    "masteryRatings = ['.25', '.26', '.27', '.28', '.29', '.30']\n",
    "dataframesToCombine = []\n",
    "\n",
    "#Normalizing it and setting the max_level to 1 makes every weapon have a column for each Mastery Rating's data.\n",
    "highMRSubset = pd.json_normalize(df, max_level = 1)\n",
    "\n",
    "for item in masteryRatings:\n",
    "    # We'll then use filter to find the columns with the appropriate Mastery Rating.\n",
    "    dataframesToCombine.append(highMRSubset.filter(like = item))\n",
    "\n",
    "#Combining the seperate dataframes back together into one, this time with just the data for the Mastery Ratings that we want. \n",
    "combinedDF = pd.concat(dataframesToCombine, axis = 1)\n",
    "combinedDF.index = ['Melee', 'Primary', 'Secondary', 'Warframe']\n",
    "#Now, we're going to group each weapon and warframe's various M.R. values and average them out.\n",
    "#Example: The data for Wukong Prime at M.R. 25 will be averaged with Wukong Prime at M.R. 26, M.R. 27, etc. \n",
    "#We'll then transpose it so the columns become rows, which makes it easier to read and enables us to use nlargest().  \n",
    "grouped = combinedDF.groupby(lambda col: col[:-3], axis = 1).mean().transpose()\n",
    "#Doing something similar to what we did to find the most popular weapons. Utilizing nlargest, splitting the dataframe up,\n",
    "#then recombining it once we're done.\n",
    "dataframesToCombine = []\n",
    "for col in grouped.columns:\n",
    "    dataframesToCombine.append(grouped.nlargest(3, col).dropna(axis=1).rename(index = lambda x: x.title()))\n",
    "#Putting it all back together..    \n",
    "finishedHighMRData = pd.concat(dataframesToCombine)\n",
    "\n"
   ]
  },
  {
   "cell_type": "code",
   "execution_count": 29,
   "metadata": {},
   "outputs": [
    {
     "output_type": "display_data",
     "data": {
      "application/vnd.plotly.v1+json": {
       "config": {
        "plotlyServerURL": "https://plot.ly"
       },
       "data": [
        {
         "alignmentgroup": "True",
         "hovertemplate": "Type of Equipment=Melee<br>Equipment Name=%{x}<br>Usage Percent=%{y}<extra></extra>",
         "legendgroup": "Melee",
         "marker": {
          "color": "#636efa"
         },
         "name": "Melee",
         "offsetgroup": "Melee",
         "orientation": "v",
         "showlegend": true,
         "textposition": "auto",
         "type": "bar",
         "x": [
          "Paracesis",
          "Stropha",
          "Kronen Prime",
          "Ignis Wraith",
          "Kuva Bramma",
          "Acceltra",
          "Kuva Nukor",
          "Catchmoon",
          "Pyrana Prime",
          "Wukong Prime",
          "Khora",
          "Mesa Prime"
         ],
         "xaxis": "x",
         "y": [
          0.08425429943586517,
          0.06486609264424484,
          0.0583211018018325,
          null,
          null,
          null,
          null,
          null,
          null,
          null,
          null,
          null
         ],
         "yaxis": "y"
        },
        {
         "alignmentgroup": "True",
         "hovertemplate": "Type of Equipment=Primary<br>Equipment Name=%{x}<br>Usage Percent=%{y}<extra></extra>",
         "legendgroup": "Primary",
         "marker": {
          "color": "#EF553B"
         },
         "name": "Primary",
         "offsetgroup": "Primary",
         "orientation": "v",
         "showlegend": true,
         "textposition": "auto",
         "type": "bar",
         "x": [
          "Paracesis",
          "Stropha",
          "Kronen Prime",
          "Ignis Wraith",
          "Kuva Bramma",
          "Acceltra",
          "Kuva Nukor",
          "Catchmoon",
          "Pyrana Prime",
          "Wukong Prime",
          "Khora",
          "Mesa Prime"
         ],
         "xaxis": "x",
         "y": [
          null,
          null,
          null,
          0.11038431201386101,
          0.09299080872467484,
          0.072313597762976,
          null,
          null,
          null,
          null,
          null,
          null
         ],
         "yaxis": "y"
        },
        {
         "alignmentgroup": "True",
         "hovertemplate": "Type of Equipment=Secondary<br>Equipment Name=%{x}<br>Usage Percent=%{y}<extra></extra>",
         "legendgroup": "Secondary",
         "marker": {
          "color": "#00cc96"
         },
         "name": "Secondary",
         "offsetgroup": "Secondary",
         "orientation": "v",
         "showlegend": true,
         "textposition": "auto",
         "type": "bar",
         "x": [
          "Paracesis",
          "Stropha",
          "Kronen Prime",
          "Ignis Wraith",
          "Kuva Bramma",
          "Acceltra",
          "Kuva Nukor",
          "Catchmoon",
          "Pyrana Prime",
          "Wukong Prime",
          "Khora",
          "Mesa Prime"
         ],
         "xaxis": "x",
         "y": [
          null,
          null,
          null,
          null,
          null,
          null,
          0.2787233322038449,
          0.14040380281615403,
          0.06078342647300684,
          null,
          null,
          null
         ],
         "yaxis": "y"
        },
        {
         "alignmentgroup": "True",
         "hovertemplate": "Type of Equipment=Warframe<br>Equipment Name=%{x}<br>Usage Percent=%{y}<extra></extra>",
         "legendgroup": "Warframe",
         "marker": {
          "color": "#ab63fa"
         },
         "name": "Warframe",
         "offsetgroup": "Warframe",
         "orientation": "v",
         "showlegend": true,
         "textposition": "auto",
         "type": "bar",
         "x": [
          "Paracesis",
          "Stropha",
          "Kronen Prime",
          "Ignis Wraith",
          "Kuva Bramma",
          "Acceltra",
          "Kuva Nukor",
          "Catchmoon",
          "Pyrana Prime",
          "Wukong Prime",
          "Khora",
          "Mesa Prime"
         ],
         "xaxis": "x",
         "y": [
          null,
          null,
          null,
          null,
          null,
          null,
          null,
          null,
          null,
          0.06738155097998201,
          0.06480823825612934,
          0.058808629842483334
         ],
         "yaxis": "y"
        }
       ],
       "layout": {
        "autosize": false,
        "barmode": "relative",
        "height": 500,
        "legend": {
         "title": {
          "text": "Type of Equipment"
         },
         "tracegroupgap": 0
        },
        "margin": {
         "t": 60
        },
        "template": {
         "data": {
          "bar": [
           {
            "error_x": {
             "color": "#2a3f5f"
            },
            "error_y": {
             "color": "#2a3f5f"
            },
            "marker": {
             "line": {
              "color": "#E5ECF6",
              "width": 0.5
             }
            },
            "type": "bar"
           }
          ],
          "barpolar": [
           {
            "marker": {
             "line": {
              "color": "#E5ECF6",
              "width": 0.5
             }
            },
            "type": "barpolar"
           }
          ],
          "carpet": [
           {
            "aaxis": {
             "endlinecolor": "#2a3f5f",
             "gridcolor": "white",
             "linecolor": "white",
             "minorgridcolor": "white",
             "startlinecolor": "#2a3f5f"
            },
            "baxis": {
             "endlinecolor": "#2a3f5f",
             "gridcolor": "white",
             "linecolor": "white",
             "minorgridcolor": "white",
             "startlinecolor": "#2a3f5f"
            },
            "type": "carpet"
           }
          ],
          "choropleth": [
           {
            "colorbar": {
             "outlinewidth": 0,
             "ticks": ""
            },
            "type": "choropleth"
           }
          ],
          "contour": [
           {
            "colorbar": {
             "outlinewidth": 0,
             "ticks": ""
            },
            "colorscale": [
             [
              0,
              "#0d0887"
             ],
             [
              0.1111111111111111,
              "#46039f"
             ],
             [
              0.2222222222222222,
              "#7201a8"
             ],
             [
              0.3333333333333333,
              "#9c179e"
             ],
             [
              0.4444444444444444,
              "#bd3786"
             ],
             [
              0.5555555555555556,
              "#d8576b"
             ],
             [
              0.6666666666666666,
              "#ed7953"
             ],
             [
              0.7777777777777778,
              "#fb9f3a"
             ],
             [
              0.8888888888888888,
              "#fdca26"
             ],
             [
              1,
              "#f0f921"
             ]
            ],
            "type": "contour"
           }
          ],
          "contourcarpet": [
           {
            "colorbar": {
             "outlinewidth": 0,
             "ticks": ""
            },
            "type": "contourcarpet"
           }
          ],
          "heatmap": [
           {
            "colorbar": {
             "outlinewidth": 0,
             "ticks": ""
            },
            "colorscale": [
             [
              0,
              "#0d0887"
             ],
             [
              0.1111111111111111,
              "#46039f"
             ],
             [
              0.2222222222222222,
              "#7201a8"
             ],
             [
              0.3333333333333333,
              "#9c179e"
             ],
             [
              0.4444444444444444,
              "#bd3786"
             ],
             [
              0.5555555555555556,
              "#d8576b"
             ],
             [
              0.6666666666666666,
              "#ed7953"
             ],
             [
              0.7777777777777778,
              "#fb9f3a"
             ],
             [
              0.8888888888888888,
              "#fdca26"
             ],
             [
              1,
              "#f0f921"
             ]
            ],
            "type": "heatmap"
           }
          ],
          "heatmapgl": [
           {
            "colorbar": {
             "outlinewidth": 0,
             "ticks": ""
            },
            "colorscale": [
             [
              0,
              "#0d0887"
             ],
             [
              0.1111111111111111,
              "#46039f"
             ],
             [
              0.2222222222222222,
              "#7201a8"
             ],
             [
              0.3333333333333333,
              "#9c179e"
             ],
             [
              0.4444444444444444,
              "#bd3786"
             ],
             [
              0.5555555555555556,
              "#d8576b"
             ],
             [
              0.6666666666666666,
              "#ed7953"
             ],
             [
              0.7777777777777778,
              "#fb9f3a"
             ],
             [
              0.8888888888888888,
              "#fdca26"
             ],
             [
              1,
              "#f0f921"
             ]
            ],
            "type": "heatmapgl"
           }
          ],
          "histogram": [
           {
            "marker": {
             "colorbar": {
              "outlinewidth": 0,
              "ticks": ""
             }
            },
            "type": "histogram"
           }
          ],
          "histogram2d": [
           {
            "colorbar": {
             "outlinewidth": 0,
             "ticks": ""
            },
            "colorscale": [
             [
              0,
              "#0d0887"
             ],
             [
              0.1111111111111111,
              "#46039f"
             ],
             [
              0.2222222222222222,
              "#7201a8"
             ],
             [
              0.3333333333333333,
              "#9c179e"
             ],
             [
              0.4444444444444444,
              "#bd3786"
             ],
             [
              0.5555555555555556,
              "#d8576b"
             ],
             [
              0.6666666666666666,
              "#ed7953"
             ],
             [
              0.7777777777777778,
              "#fb9f3a"
             ],
             [
              0.8888888888888888,
              "#fdca26"
             ],
             [
              1,
              "#f0f921"
             ]
            ],
            "type": "histogram2d"
           }
          ],
          "histogram2dcontour": [
           {
            "colorbar": {
             "outlinewidth": 0,
             "ticks": ""
            },
            "colorscale": [
             [
              0,
              "#0d0887"
             ],
             [
              0.1111111111111111,
              "#46039f"
             ],
             [
              0.2222222222222222,
              "#7201a8"
             ],
             [
              0.3333333333333333,
              "#9c179e"
             ],
             [
              0.4444444444444444,
              "#bd3786"
             ],
             [
              0.5555555555555556,
              "#d8576b"
             ],
             [
              0.6666666666666666,
              "#ed7953"
             ],
             [
              0.7777777777777778,
              "#fb9f3a"
             ],
             [
              0.8888888888888888,
              "#fdca26"
             ],
             [
              1,
              "#f0f921"
             ]
            ],
            "type": "histogram2dcontour"
           }
          ],
          "mesh3d": [
           {
            "colorbar": {
             "outlinewidth": 0,
             "ticks": ""
            },
            "type": "mesh3d"
           }
          ],
          "parcoords": [
           {
            "line": {
             "colorbar": {
              "outlinewidth": 0,
              "ticks": ""
             }
            },
            "type": "parcoords"
           }
          ],
          "pie": [
           {
            "automargin": true,
            "type": "pie"
           }
          ],
          "scatter": [
           {
            "marker": {
             "colorbar": {
              "outlinewidth": 0,
              "ticks": ""
             }
            },
            "type": "scatter"
           }
          ],
          "scatter3d": [
           {
            "line": {
             "colorbar": {
              "outlinewidth": 0,
              "ticks": ""
             }
            },
            "marker": {
             "colorbar": {
              "outlinewidth": 0,
              "ticks": ""
             }
            },
            "type": "scatter3d"
           }
          ],
          "scattercarpet": [
           {
            "marker": {
             "colorbar": {
              "outlinewidth": 0,
              "ticks": ""
             }
            },
            "type": "scattercarpet"
           }
          ],
          "scattergeo": [
           {
            "marker": {
             "colorbar": {
              "outlinewidth": 0,
              "ticks": ""
             }
            },
            "type": "scattergeo"
           }
          ],
          "scattergl": [
           {
            "marker": {
             "colorbar": {
              "outlinewidth": 0,
              "ticks": ""
             }
            },
            "type": "scattergl"
           }
          ],
          "scattermapbox": [
           {
            "marker": {
             "colorbar": {
              "outlinewidth": 0,
              "ticks": ""
             }
            },
            "type": "scattermapbox"
           }
          ],
          "scatterpolar": [
           {
            "marker": {
             "colorbar": {
              "outlinewidth": 0,
              "ticks": ""
             }
            },
            "type": "scatterpolar"
           }
          ],
          "scatterpolargl": [
           {
            "marker": {
             "colorbar": {
              "outlinewidth": 0,
              "ticks": ""
             }
            },
            "type": "scatterpolargl"
           }
          ],
          "scatterternary": [
           {
            "marker": {
             "colorbar": {
              "outlinewidth": 0,
              "ticks": ""
             }
            },
            "type": "scatterternary"
           }
          ],
          "surface": [
           {
            "colorbar": {
             "outlinewidth": 0,
             "ticks": ""
            },
            "colorscale": [
             [
              0,
              "#0d0887"
             ],
             [
              0.1111111111111111,
              "#46039f"
             ],
             [
              0.2222222222222222,
              "#7201a8"
             ],
             [
              0.3333333333333333,
              "#9c179e"
             ],
             [
              0.4444444444444444,
              "#bd3786"
             ],
             [
              0.5555555555555556,
              "#d8576b"
             ],
             [
              0.6666666666666666,
              "#ed7953"
             ],
             [
              0.7777777777777778,
              "#fb9f3a"
             ],
             [
              0.8888888888888888,
              "#fdca26"
             ],
             [
              1,
              "#f0f921"
             ]
            ],
            "type": "surface"
           }
          ],
          "table": [
           {
            "cells": {
             "fill": {
              "color": "#EBF0F8"
             },
             "line": {
              "color": "white"
             }
            },
            "header": {
             "fill": {
              "color": "#C8D4E3"
             },
             "line": {
              "color": "white"
             }
            },
            "type": "table"
           }
          ]
         },
         "layout": {
          "annotationdefaults": {
           "arrowcolor": "#2a3f5f",
           "arrowhead": 0,
           "arrowwidth": 1
          },
          "coloraxis": {
           "colorbar": {
            "outlinewidth": 0,
            "ticks": ""
           }
          },
          "colorscale": {
           "diverging": [
            [
             0,
             "#8e0152"
            ],
            [
             0.1,
             "#c51b7d"
            ],
            [
             0.2,
             "#de77ae"
            ],
            [
             0.3,
             "#f1b6da"
            ],
            [
             0.4,
             "#fde0ef"
            ],
            [
             0.5,
             "#f7f7f7"
            ],
            [
             0.6,
             "#e6f5d0"
            ],
            [
             0.7,
             "#b8e186"
            ],
            [
             0.8,
             "#7fbc41"
            ],
            [
             0.9,
             "#4d9221"
            ],
            [
             1,
             "#276419"
            ]
           ],
           "sequential": [
            [
             0,
             "#0d0887"
            ],
            [
             0.1111111111111111,
             "#46039f"
            ],
            [
             0.2222222222222222,
             "#7201a8"
            ],
            [
             0.3333333333333333,
             "#9c179e"
            ],
            [
             0.4444444444444444,
             "#bd3786"
            ],
            [
             0.5555555555555556,
             "#d8576b"
            ],
            [
             0.6666666666666666,
             "#ed7953"
            ],
            [
             0.7777777777777778,
             "#fb9f3a"
            ],
            [
             0.8888888888888888,
             "#fdca26"
            ],
            [
             1,
             "#f0f921"
            ]
           ],
           "sequentialminus": [
            [
             0,
             "#0d0887"
            ],
            [
             0.1111111111111111,
             "#46039f"
            ],
            [
             0.2222222222222222,
             "#7201a8"
            ],
            [
             0.3333333333333333,
             "#9c179e"
            ],
            [
             0.4444444444444444,
             "#bd3786"
            ],
            [
             0.5555555555555556,
             "#d8576b"
            ],
            [
             0.6666666666666666,
             "#ed7953"
            ],
            [
             0.7777777777777778,
             "#fb9f3a"
            ],
            [
             0.8888888888888888,
             "#fdca26"
            ],
            [
             1,
             "#f0f921"
            ]
           ]
          },
          "colorway": [
           "#636efa",
           "#EF553B",
           "#00cc96",
           "#ab63fa",
           "#FFA15A",
           "#19d3f3",
           "#FF6692",
           "#B6E880",
           "#FF97FF",
           "#FECB52"
          ],
          "font": {
           "color": "#2a3f5f"
          },
          "geo": {
           "bgcolor": "white",
           "lakecolor": "white",
           "landcolor": "#E5ECF6",
           "showlakes": true,
           "showland": true,
           "subunitcolor": "white"
          },
          "hoverlabel": {
           "align": "left"
          },
          "hovermode": "closest",
          "mapbox": {
           "style": "light"
          },
          "paper_bgcolor": "white",
          "plot_bgcolor": "#E5ECF6",
          "polar": {
           "angularaxis": {
            "gridcolor": "white",
            "linecolor": "white",
            "ticks": ""
           },
           "bgcolor": "#E5ECF6",
           "radialaxis": {
            "gridcolor": "white",
            "linecolor": "white",
            "ticks": ""
           }
          },
          "scene": {
           "xaxis": {
            "backgroundcolor": "#E5ECF6",
            "gridcolor": "white",
            "gridwidth": 2,
            "linecolor": "white",
            "showbackground": true,
            "ticks": "",
            "zerolinecolor": "white"
           },
           "yaxis": {
            "backgroundcolor": "#E5ECF6",
            "gridcolor": "white",
            "gridwidth": 2,
            "linecolor": "white",
            "showbackground": true,
            "ticks": "",
            "zerolinecolor": "white"
           },
           "zaxis": {
            "backgroundcolor": "#E5ECF6",
            "gridcolor": "white",
            "gridwidth": 2,
            "linecolor": "white",
            "showbackground": true,
            "ticks": "",
            "zerolinecolor": "white"
           }
          },
          "shapedefaults": {
           "line": {
            "color": "#2a3f5f"
           }
          },
          "ternary": {
           "aaxis": {
            "gridcolor": "white",
            "linecolor": "white",
            "ticks": ""
           },
           "baxis": {
            "gridcolor": "white",
            "linecolor": "white",
            "ticks": ""
           },
           "bgcolor": "#E5ECF6",
           "caxis": {
            "gridcolor": "white",
            "linecolor": "white",
            "ticks": ""
           }
          },
          "title": {
           "x": 0.05
          },
          "xaxis": {
           "automargin": true,
           "gridcolor": "white",
           "linecolor": "white",
           "ticks": "",
           "title": {
            "standoff": 15
           },
           "zerolinecolor": "white",
           "zerolinewidth": 2
          },
          "yaxis": {
           "automargin": true,
           "gridcolor": "white",
           "linecolor": "white",
           "ticks": "",
           "title": {
            "standoff": 15
           },
           "zerolinecolor": "white",
           "zerolinewidth": 2
          }
         }
        },
        "title": {
         "text": "Most Popular Equipment for Players Mastery Rating 25 and Above"
        },
        "width": 1000,
        "xaxis": {
         "anchor": "y",
         "domain": [
          0,
          1
         ],
         "title": {
          "text": "Equipment"
         }
        },
        "yaxis": {
         "anchor": "x",
         "domain": [
          0,
          1
         ],
         "tickformat": "0.1%",
         "title": {
          "text": "Averaged Percent of Playtime"
         }
        }
       }
      }
     },
     "metadata": {}
    }
   ],
   "source": [
    "#Now to start graphing!\n",
    "fig = px.bar(finishedHighMRData, \n",
    "    labels = {'variable':'Type of Equipment', 'index': 'Equipment Name', 'value': 'Usage Percent'}\n",
    "    )\n",
    "fig.update_layout(\n",
    "    #Widening the plot a little.\n",
    "    autosize = False,\n",
    "    width=1000,\n",
    "    height=500,\n",
    "    \n",
    "        title = 'Most Popular Equipment for Players Mastery Rating 25 and Above',\n",
    "\n",
    "    xaxis = dict(\n",
    "        title = 'Equipment',\n",
    "    ),\n",
    "\n",
    "    yaxis = dict(\n",
    "        tickformat= '0.1%',\n",
    "        title = 'Averaged Percent of Playtime')\n",
    ")\n",
    "\n",
    "fig.show()\n"
   ]
  },
  {
   "source": [
    "# Analysis by Type\n",
    "## Melee\n",
    "We find that high M.R. players have notably diffrent choices in melee weapons. Paracesis, a greatsword rewarded from a late-game story mission, is dominant. Paracesis holds some special traits that make it valuable for much of the content in the game, but the heavy time investment required to build it may have put off lower M.R. players. Stropha, a futuristic gunblade, is popular among high level players presumably for its incredible critical damage, and its effectiveness when pared with the Khora frame also seen on this plot. Lastly, the Kronen Prime tonfas are popular for their high damage output and unique moveset, but its crafting costs may have put less experienced players off. \n",
    "## Primary\n",
    "Primary weapon usage is nearly the same as it is in the all Mastery Ratings graph. The Ignis Wraith, Kuva Bramma and Acceltra continue their reign.\n",
    "## Secondary\n",
    "Like with primary weapons, M.R. 25 and above players seem to use the same weaponry, but this time the Kuva Nukor's playtime values are even higher, accounting for over a quarter of all secondary weapon usage. The Catchmoon modular part also sees an appreciable bump of 5% more playtime compared to all Mastery Ratings. Lastly, the Pyrana Prime sees almost the exact same usage between the two datasets. \n",
    "## Warframes\n",
    "While we see that Wukong is still the most popular frame, he does not have the same lead as before. The beastmaster Warframe Khora supercedes Volt as the second most popular choice while Mesa Prime retains her placement as the third most popular Warframe. Khora is well loved for her strong crowd-control abilities, while Mesa Prime is popular for her ability to clear whole rooms in seconds.  "
   ],
   "cell_type": "markdown",
   "metadata": {}
  },
  {
   "source": [
    "# Final Thoughts\n",
    "It is interesting that despite these players having considerably more choice in what they can use, their weaponry is largely the same as everyone else's. The playerbase in general seems to share similar sentiments of what is considered \"good\" and what isn't. Speaking anecdotally, the effectiveness of weaponry - and to a lesser extent, Warframes - varies <em>wildly</em>. Most of the weaponry I've used in Warframe simply isn't good enough to work in the content I want to do, so I don't think it's all that surprising that some weapons dominate the field. With that said, I think it's clear that some weapons are a little too dominant, such as the Kuva Nukor. Balance is tricky, but I do think some of the older weaponry could use some strong buffs to keep them at least partially relevant. \n",
    "\n",
    "I hope you enjoyed this dive into Warframe's data. It was certainly a fascinating dataset to explore, and I feel like I have a much better understanding of both pandas and Plotly. Lastly, I'd like to give a big thank you to Digital Extremes for publishing this data, and being so open with their development process in general. "
   ],
   "cell_type": "markdown",
   "metadata": {}
  },
  {
   "cell_type": "code",
   "execution_count": null,
   "metadata": {},
   "outputs": [],
   "source": []
  }
 ]
}